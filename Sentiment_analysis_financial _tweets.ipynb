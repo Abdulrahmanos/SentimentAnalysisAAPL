{
 "cells": [
  {
   "cell_type": "code",
   "execution_count": 1,
   "id": "29a2c24e",
   "metadata": {},
   "outputs": [],
   "source": [
    "from textblob import TextBlob"
   ]
  },
  {
   "cell_type": "code",
   "execution_count": 2,
   "id": "9eed8ae3",
   "metadata": {},
   "outputs": [],
   "source": [
    "# Use the textblob module to make a function called stringTosentiment that"
   ]
  },
  {
   "cell_type": "code",
   "execution_count": 3,
   "id": "37c8f61c",
   "metadata": {},
   "outputs": [],
   "source": [
    "# returns a sentences setiment"
   ]
  },
  {
   "cell_type": "code",
   "execution_count": 4,
   "id": "23e03d3a",
   "metadata": {},
   "outputs": [],
   "source": [
    "def stringToSentiment(text):\n",
    "    return TextBlob(text).sentiment.polarity"
   ]
  },
  {
   "cell_type": "code",
   "execution_count": 5,
   "id": "b8067f11",
   "metadata": {},
   "outputs": [
    {
     "data": {
      "text/plain": [
       "-0.8"
      ]
     },
     "execution_count": 5,
     "metadata": {},
     "output_type": "execute_result"
    }
   ],
   "source": [
    "stringToSentiment('i hate you')"
   ]
  },
  {
   "cell_type": "code",
   "execution_count": 6,
   "id": "1c7a87a9",
   "metadata": {},
   "outputs": [
    {
     "data": {
      "text/plain": [
       "0.5"
      ]
     },
     "execution_count": 6,
     "metadata": {},
     "output_type": "execute_result"
    }
   ],
   "source": [
    "stringToSentiment('i love you')"
   ]
  },
  {
   "cell_type": "code",
   "execution_count": 7,
   "id": "374d2f23",
   "metadata": {},
   "outputs": [
    {
     "data": {
      "text/plain": [
       "0.0"
      ]
     },
     "execution_count": 7,
     "metadata": {},
     "output_type": "execute_result"
    }
   ],
   "source": [
    "stringToSentiment('i see you')"
   ]
  },
  {
   "cell_type": "code",
   "execution_count": 8,
   "id": "9193462e",
   "metadata": {},
   "outputs": [],
   "source": [
    "# Now, let's read in our tweets for our study:\n",
    "\n",
    "# read in data into a dataframes"
   ]
  },
  {
   "cell_type": "code",
   "execution_count": 9,
   "id": "b1af0a23",
   "metadata": {},
   "outputs": [],
   "source": [
    "from textblob import TextBlob"
   ]
  },
  {
   "cell_type": "code",
   "execution_count": 10,
   "id": "9da72d87",
   "metadata": {},
   "outputs": [],
   "source": [
    "import pandas as pd"
   ]
  },
  {
   "cell_type": "code",
   "execution_count": 11,
   "id": "ce0b8222",
   "metadata": {},
   "outputs": [],
   "source": [
    "%matplotlib inline"
   ]
  },
  {
   "cell_type": "code",
   "execution_count": 12,
   "id": "b68c7db5",
   "metadata": {},
   "outputs": [],
   "source": [
    "tweets = pd.read_csv('stockerbot-export.csv', on_bad_lines = 'skip') "
   ]
  },
  {
   "cell_type": "code",
   "execution_count": 13,
   "id": "104b57fb",
   "metadata": {},
   "outputs": [
    {
     "data": {
      "text/html": [
       "<div>\n",
       "<style scoped>\n",
       "    .dataframe tbody tr th:only-of-type {\n",
       "        vertical-align: middle;\n",
       "    }\n",
       "\n",
       "    .dataframe tbody tr th {\n",
       "        vertical-align: top;\n",
       "    }\n",
       "\n",
       "    .dataframe thead th {\n",
       "        text-align: right;\n",
       "    }\n",
       "</style>\n",
       "<table border=\"1\" class=\"dataframe\">\n",
       "  <thead>\n",
       "    <tr style=\"text-align: right;\">\n",
       "      <th></th>\n",
       "      <th>id</th>\n",
       "      <th>text</th>\n",
       "      <th>timestamp</th>\n",
       "      <th>source</th>\n",
       "      <th>symbols</th>\n",
       "      <th>company_names</th>\n",
       "      <th>url</th>\n",
       "      <th>verified</th>\n",
       "    </tr>\n",
       "  </thead>\n",
       "  <tbody>\n",
       "    <tr>\n",
       "      <th>0</th>\n",
       "      <td>1019696670777503700</td>\n",
       "      <td>VIDEO: “I was in my office. I was minding my o...</td>\n",
       "      <td>Wed Jul 18 21:33:26 +0000 2018</td>\n",
       "      <td>GoldmanSachs</td>\n",
       "      <td>GS</td>\n",
       "      <td>The Goldman Sachs</td>\n",
       "      <td>https://twitter.com/i/web/status/1019696670777...</td>\n",
       "      <td>True</td>\n",
       "    </tr>\n",
       "    <tr>\n",
       "      <th>1</th>\n",
       "      <td>1019709091038548000</td>\n",
       "      <td>The price of lumber $LB_F is down 22% since hi...</td>\n",
       "      <td>Wed Jul 18 22:22:47 +0000 2018</td>\n",
       "      <td>StockTwits</td>\n",
       "      <td>M</td>\n",
       "      <td>Macy's</td>\n",
       "      <td>https://twitter.com/i/web/status/1019709091038...</td>\n",
       "      <td>True</td>\n",
       "    </tr>\n",
       "    <tr>\n",
       "      <th>2</th>\n",
       "      <td>1019711413798035500</td>\n",
       "      <td>Who says the American Dream is dead? https://t...</td>\n",
       "      <td>Wed Jul 18 22:32:01 +0000 2018</td>\n",
       "      <td>TheStreet</td>\n",
       "      <td>AIG</td>\n",
       "      <td>American</td>\n",
       "      <td>https://buff.ly/2L3kmc4</td>\n",
       "      <td>True</td>\n",
       "    </tr>\n",
       "    <tr>\n",
       "      <th>3</th>\n",
       "      <td>1019716662587740200</td>\n",
       "      <td>Barry Silbert is extremely optimistic on bitco...</td>\n",
       "      <td>Wed Jul 18 22:52:52 +0000 2018</td>\n",
       "      <td>MarketWatch</td>\n",
       "      <td>BTC</td>\n",
       "      <td>Bitcoin</td>\n",
       "      <td>https://twitter.com/i/web/status/1019716662587...</td>\n",
       "      <td>True</td>\n",
       "    </tr>\n",
       "    <tr>\n",
       "      <th>4</th>\n",
       "      <td>1019718460287389700</td>\n",
       "      <td>How satellites avoid attacks and space junk wh...</td>\n",
       "      <td>Wed Jul 18 23:00:01 +0000 2018</td>\n",
       "      <td>Forbes</td>\n",
       "      <td>ORCL</td>\n",
       "      <td>Oracle</td>\n",
       "      <td>http://on.forbes.com/6013DqDDU</td>\n",
       "      <td>True</td>\n",
       "    </tr>\n",
       "  </tbody>\n",
       "</table>\n",
       "</div>"
      ],
      "text/plain": [
       "                    id                                               text  \\\n",
       "0  1019696670777503700  VIDEO: “I was in my office. I was minding my o...   \n",
       "1  1019709091038548000  The price of lumber $LB_F is down 22% since hi...   \n",
       "2  1019711413798035500  Who says the American Dream is dead? https://t...   \n",
       "3  1019716662587740200  Barry Silbert is extremely optimistic on bitco...   \n",
       "4  1019718460287389700  How satellites avoid attacks and space junk wh...   \n",
       "\n",
       "                        timestamp        source symbols      company_names  \\\n",
       "0  Wed Jul 18 21:33:26 +0000 2018  GoldmanSachs      GS  The Goldman Sachs   \n",
       "1  Wed Jul 18 22:22:47 +0000 2018    StockTwits       M             Macy's   \n",
       "2  Wed Jul 18 22:32:01 +0000 2018     TheStreet     AIG           American   \n",
       "3  Wed Jul 18 22:52:52 +0000 2018   MarketWatch     BTC            Bitcoin   \n",
       "4  Wed Jul 18 23:00:01 +0000 2018        Forbes    ORCL             Oracle   \n",
       "\n",
       "                                                 url  verified  \n",
       "0  https://twitter.com/i/web/status/1019696670777...      True  \n",
       "1  https://twitter.com/i/web/status/1019709091038...      True  \n",
       "2                            https://buff.ly/2L3kmc4      True  \n",
       "3  https://twitter.com/i/web/status/1019716662587...      True  \n",
       "4                     http://on.forbes.com/6013DqDDU      True  "
      ]
     },
     "execution_count": 13,
     "metadata": {},
     "output_type": "execute_result"
    }
   ],
   "source": [
    "tweets.head()"
   ]
  },
  {
   "cell_type": "code",
   "execution_count": 14,
   "id": "c659cb79",
   "metadata": {},
   "outputs": [
    {
     "data": {
      "text/plain": [
       "(28264, 8)"
      ]
     },
     "execution_count": 14,
     "metadata": {},
     "output_type": "execute_result"
    }
   ],
   "source": [
    "tweets.shape"
   ]
  },
  {
   "cell_type": "code",
   "execution_count": 15,
   "id": "92039b71",
   "metadata": {},
   "outputs": [],
   "source": [
    "#creating new column in tweets that maps stringTosentiment to the text column "
   ]
  },
  {
   "cell_type": "code",
   "execution_count": 16,
   "id": "3caf5580",
   "metadata": {},
   "outputs": [],
   "source": [
    "tweets['sentiment'] = tweets['text'].apply(stringToSentiment)"
   ]
  },
  {
   "cell_type": "code",
   "execution_count": 17,
   "id": "481eea60",
   "metadata": {},
   "outputs": [
    {
     "data": {
      "text/html": [
       "<div>\n",
       "<style scoped>\n",
       "    .dataframe tbody tr th:only-of-type {\n",
       "        vertical-align: middle;\n",
       "    }\n",
       "\n",
       "    .dataframe tbody tr th {\n",
       "        vertical-align: top;\n",
       "    }\n",
       "\n",
       "    .dataframe thead th {\n",
       "        text-align: right;\n",
       "    }\n",
       "</style>\n",
       "<table border=\"1\" class=\"dataframe\">\n",
       "  <thead>\n",
       "    <tr style=\"text-align: right;\">\n",
       "      <th></th>\n",
       "      <th>id</th>\n",
       "      <th>text</th>\n",
       "      <th>timestamp</th>\n",
       "      <th>source</th>\n",
       "      <th>symbols</th>\n",
       "      <th>company_names</th>\n",
       "      <th>url</th>\n",
       "      <th>verified</th>\n",
       "      <th>sentiment</th>\n",
       "    </tr>\n",
       "  </thead>\n",
       "  <tbody>\n",
       "    <tr>\n",
       "      <th>0</th>\n",
       "      <td>1019696670777503700</td>\n",
       "      <td>VIDEO: “I was in my office. I was minding my o...</td>\n",
       "      <td>Wed Jul 18 21:33:26 +0000 2018</td>\n",
       "      <td>GoldmanSachs</td>\n",
       "      <td>GS</td>\n",
       "      <td>The Goldman Sachs</td>\n",
       "      <td>https://twitter.com/i/web/status/1019696670777...</td>\n",
       "      <td>True</td>\n",
       "      <td>0.600000</td>\n",
       "    </tr>\n",
       "    <tr>\n",
       "      <th>1</th>\n",
       "      <td>1019709091038548000</td>\n",
       "      <td>The price of lumber $LB_F is down 22% since hi...</td>\n",
       "      <td>Wed Jul 18 22:22:47 +0000 2018</td>\n",
       "      <td>StockTwits</td>\n",
       "      <td>M</td>\n",
       "      <td>Macy's</td>\n",
       "      <td>https://twitter.com/i/web/status/1019709091038...</td>\n",
       "      <td>True</td>\n",
       "      <td>-0.155556</td>\n",
       "    </tr>\n",
       "    <tr>\n",
       "      <th>2</th>\n",
       "      <td>1019711413798035500</td>\n",
       "      <td>Who says the American Dream is dead? https://t...</td>\n",
       "      <td>Wed Jul 18 22:32:01 +0000 2018</td>\n",
       "      <td>TheStreet</td>\n",
       "      <td>AIG</td>\n",
       "      <td>American</td>\n",
       "      <td>https://buff.ly/2L3kmc4</td>\n",
       "      <td>True</td>\n",
       "      <td>-0.100000</td>\n",
       "    </tr>\n",
       "    <tr>\n",
       "      <th>3</th>\n",
       "      <td>1019716662587740200</td>\n",
       "      <td>Barry Silbert is extremely optimistic on bitco...</td>\n",
       "      <td>Wed Jul 18 22:52:52 +0000 2018</td>\n",
       "      <td>MarketWatch</td>\n",
       "      <td>BTC</td>\n",
       "      <td>Bitcoin</td>\n",
       "      <td>https://twitter.com/i/web/status/1019716662587...</td>\n",
       "      <td>True</td>\n",
       "      <td>0.005682</td>\n",
       "    </tr>\n",
       "    <tr>\n",
       "      <th>4</th>\n",
       "      <td>1019718460287389700</td>\n",
       "      <td>How satellites avoid attacks and space junk wh...</td>\n",
       "      <td>Wed Jul 18 23:00:01 +0000 2018</td>\n",
       "      <td>Forbes</td>\n",
       "      <td>ORCL</td>\n",
       "      <td>Oracle</td>\n",
       "      <td>http://on.forbes.com/6013DqDDU</td>\n",
       "      <td>True</td>\n",
       "      <td>0.000000</td>\n",
       "    </tr>\n",
       "  </tbody>\n",
       "</table>\n",
       "</div>"
      ],
      "text/plain": [
       "                    id                                               text  \\\n",
       "0  1019696670777503700  VIDEO: “I was in my office. I was minding my o...   \n",
       "1  1019709091038548000  The price of lumber $LB_F is down 22% since hi...   \n",
       "2  1019711413798035500  Who says the American Dream is dead? https://t...   \n",
       "3  1019716662587740200  Barry Silbert is extremely optimistic on bitco...   \n",
       "4  1019718460287389700  How satellites avoid attacks and space junk wh...   \n",
       "\n",
       "                        timestamp        source symbols      company_names  \\\n",
       "0  Wed Jul 18 21:33:26 +0000 2018  GoldmanSachs      GS  The Goldman Sachs   \n",
       "1  Wed Jul 18 22:22:47 +0000 2018    StockTwits       M             Macy's   \n",
       "2  Wed Jul 18 22:32:01 +0000 2018     TheStreet     AIG           American   \n",
       "3  Wed Jul 18 22:52:52 +0000 2018   MarketWatch     BTC            Bitcoin   \n",
       "4  Wed Jul 18 23:00:01 +0000 2018        Forbes    ORCL             Oracle   \n",
       "\n",
       "                                                 url  verified  sentiment  \n",
       "0  https://twitter.com/i/web/status/1019696670777...      True   0.600000  \n",
       "1  https://twitter.com/i/web/status/1019709091038...      True  -0.155556  \n",
       "2                            https://buff.ly/2L3kmc4      True  -0.100000  \n",
       "3  https://twitter.com/i/web/status/1019716662587...      True   0.005682  \n",
       "4                     http://on.forbes.com/6013DqDDU      True   0.000000  "
      ]
     },
     "execution_count": 17,
     "metadata": {},
     "output_type": "execute_result"
    }
   ],
   "source": [
    "tweets.head()"
   ]
  },
  {
   "cell_type": "code",
   "execution_count": 18,
   "id": "dcd50ba2",
   "metadata": {},
   "outputs": [],
   "source": [
    "#we applied the stringToSentiment function to every element in the text column"
   ]
  },
  {
   "cell_type": "code",
   "execution_count": 19,
   "id": "7d9f12cd",
   "metadata": {},
   "outputs": [],
   "source": [
    "tweets.index = pd.RangeIndex(start = 0, stop = 28264, step = 1)"
   ]
  },
  {
   "cell_type": "code",
   "execution_count": 20,
   "id": "dcd3eaba",
   "metadata": {},
   "outputs": [],
   "source": [
    "# as a list, we can splice it list(tweets.index) [:5]"
   ]
  },
  {
   "cell_type": "code",
   "execution_count": 21,
   "id": "e3908c0a",
   "metadata": {},
   "outputs": [],
   "source": [
    "tweets['Date'] = pd.to_datetime(tweets.timestamp)"
   ]
  },
  {
   "cell_type": "code",
   "execution_count": 22,
   "id": "6e447c79",
   "metadata": {},
   "outputs": [
    {
     "data": {
      "text/plain": [
       "0   2018-07-18 21:33:26+00:00\n",
       "1   2018-07-18 22:22:47+00:00\n",
       "2   2018-07-18 22:32:01+00:00\n",
       "3   2018-07-18 22:52:52+00:00\n",
       "4   2018-07-18 23:00:01+00:00\n",
       "Name: Date, dtype: datetime64[ns, UTC]"
      ]
     },
     "execution_count": 22,
     "metadata": {},
     "output_type": "execute_result"
    }
   ],
   "source": [
    "tweets['Date'].head()"
   ]
  },
  {
   "cell_type": "code",
   "execution_count": 23,
   "id": "e082257d",
   "metadata": {},
   "outputs": [],
   "source": [
    "tweets.index = tweets.Date"
   ]
  },
  {
   "cell_type": "code",
   "execution_count": 24,
   "id": "8b59e260",
   "metadata": {},
   "outputs": [
    {
     "data": {
      "text/plain": [
       "DatetimeIndex(['2018-07-18 21:33:26+00:00', '2018-07-18 22:22:47+00:00',\n",
       "               '2018-07-18 22:32:01+00:00', '2018-07-18 22:52:52+00:00',\n",
       "               '2018-07-18 23:00:01+00:00', '2018-07-18 23:04:00+00:00',\n",
       "               '2018-07-18 23:06:58+00:00', '2018-07-18 23:08:45+00:00',\n",
       "               '2018-07-18 23:09:00+00:00', '2018-07-18 23:10:41+00:00',\n",
       "               ...\n",
       "               '2018-07-18 23:46:00+00:00', '2018-07-18 23:46:00+00:00',\n",
       "               '2018-07-18 23:46:00+00:00', '2018-07-18 23:46:10+00:00',\n",
       "               '2018-07-18 23:46:12+00:00', '2018-07-18 23:46:13+00:00',\n",
       "               '2018-07-18 23:46:19+00:00', '2018-07-18 23:46:19+00:00',\n",
       "               '2018-07-18 23:46:20+00:00', '2018-07-18 23:46:27+00:00'],\n",
       "              dtype='datetime64[ns, UTC]', name='Date', length=28264, freq=None)"
      ]
     },
     "execution_count": 24,
     "metadata": {},
     "output_type": "execute_result"
    }
   ],
   "source": [
    "tweets.index"
   ]
  },
  {
   "cell_type": "code",
   "execution_count": 25,
   "id": "238dde6e",
   "metadata": {},
   "outputs": [
    {
     "data": {
      "text/html": [
       "<div>\n",
       "<style scoped>\n",
       "    .dataframe tbody tr th:only-of-type {\n",
       "        vertical-align: middle;\n",
       "    }\n",
       "\n",
       "    .dataframe tbody tr th {\n",
       "        vertical-align: top;\n",
       "    }\n",
       "\n",
       "    .dataframe thead th {\n",
       "        text-align: right;\n",
       "    }\n",
       "</style>\n",
       "<table border=\"1\" class=\"dataframe\">\n",
       "  <thead>\n",
       "    <tr style=\"text-align: right;\">\n",
       "      <th></th>\n",
       "      <th>id</th>\n",
       "      <th>text</th>\n",
       "      <th>timestamp</th>\n",
       "      <th>source</th>\n",
       "      <th>symbols</th>\n",
       "      <th>company_names</th>\n",
       "      <th>url</th>\n",
       "      <th>verified</th>\n",
       "      <th>sentiment</th>\n",
       "      <th>Date</th>\n",
       "    </tr>\n",
       "    <tr>\n",
       "      <th>Date</th>\n",
       "      <th></th>\n",
       "      <th></th>\n",
       "      <th></th>\n",
       "      <th></th>\n",
       "      <th></th>\n",
       "      <th></th>\n",
       "      <th></th>\n",
       "      <th></th>\n",
       "      <th></th>\n",
       "      <th></th>\n",
       "    </tr>\n",
       "  </thead>\n",
       "  <tbody>\n",
       "    <tr>\n",
       "      <th>2018-07-18 21:33:26+00:00</th>\n",
       "      <td>1019696670777503700</td>\n",
       "      <td>VIDEO: “I was in my office. I was minding my o...</td>\n",
       "      <td>Wed Jul 18 21:33:26 +0000 2018</td>\n",
       "      <td>GoldmanSachs</td>\n",
       "      <td>GS</td>\n",
       "      <td>The Goldman Sachs</td>\n",
       "      <td>https://twitter.com/i/web/status/1019696670777...</td>\n",
       "      <td>True</td>\n",
       "      <td>0.600000</td>\n",
       "      <td>2018-07-18 21:33:26+00:00</td>\n",
       "    </tr>\n",
       "    <tr>\n",
       "      <th>2018-07-18 22:22:47+00:00</th>\n",
       "      <td>1019709091038548000</td>\n",
       "      <td>The price of lumber $LB_F is down 22% since hi...</td>\n",
       "      <td>Wed Jul 18 22:22:47 +0000 2018</td>\n",
       "      <td>StockTwits</td>\n",
       "      <td>M</td>\n",
       "      <td>Macy's</td>\n",
       "      <td>https://twitter.com/i/web/status/1019709091038...</td>\n",
       "      <td>True</td>\n",
       "      <td>-0.155556</td>\n",
       "      <td>2018-07-18 22:22:47+00:00</td>\n",
       "    </tr>\n",
       "    <tr>\n",
       "      <th>2018-07-18 22:32:01+00:00</th>\n",
       "      <td>1019711413798035500</td>\n",
       "      <td>Who says the American Dream is dead? https://t...</td>\n",
       "      <td>Wed Jul 18 22:32:01 +0000 2018</td>\n",
       "      <td>TheStreet</td>\n",
       "      <td>AIG</td>\n",
       "      <td>American</td>\n",
       "      <td>https://buff.ly/2L3kmc4</td>\n",
       "      <td>True</td>\n",
       "      <td>-0.100000</td>\n",
       "      <td>2018-07-18 22:32:01+00:00</td>\n",
       "    </tr>\n",
       "    <tr>\n",
       "      <th>2018-07-18 22:52:52+00:00</th>\n",
       "      <td>1019716662587740200</td>\n",
       "      <td>Barry Silbert is extremely optimistic on bitco...</td>\n",
       "      <td>Wed Jul 18 22:52:52 +0000 2018</td>\n",
       "      <td>MarketWatch</td>\n",
       "      <td>BTC</td>\n",
       "      <td>Bitcoin</td>\n",
       "      <td>https://twitter.com/i/web/status/1019716662587...</td>\n",
       "      <td>True</td>\n",
       "      <td>0.005682</td>\n",
       "      <td>2018-07-18 22:52:52+00:00</td>\n",
       "    </tr>\n",
       "    <tr>\n",
       "      <th>2018-07-18 23:00:01+00:00</th>\n",
       "      <td>1019718460287389700</td>\n",
       "      <td>How satellites avoid attacks and space junk wh...</td>\n",
       "      <td>Wed Jul 18 23:00:01 +0000 2018</td>\n",
       "      <td>Forbes</td>\n",
       "      <td>ORCL</td>\n",
       "      <td>Oracle</td>\n",
       "      <td>http://on.forbes.com/6013DqDDU</td>\n",
       "      <td>True</td>\n",
       "      <td>0.000000</td>\n",
       "      <td>2018-07-18 23:00:01+00:00</td>\n",
       "    </tr>\n",
       "  </tbody>\n",
       "</table>\n",
       "</div>"
      ],
      "text/plain": [
       "                                            id  \\\n",
       "Date                                             \n",
       "2018-07-18 21:33:26+00:00  1019696670777503700   \n",
       "2018-07-18 22:22:47+00:00  1019709091038548000   \n",
       "2018-07-18 22:32:01+00:00  1019711413798035500   \n",
       "2018-07-18 22:52:52+00:00  1019716662587740200   \n",
       "2018-07-18 23:00:01+00:00  1019718460287389700   \n",
       "\n",
       "                                                                        text  \\\n",
       "Date                                                                           \n",
       "2018-07-18 21:33:26+00:00  VIDEO: “I was in my office. I was minding my o...   \n",
       "2018-07-18 22:22:47+00:00  The price of lumber $LB_F is down 22% since hi...   \n",
       "2018-07-18 22:32:01+00:00  Who says the American Dream is dead? https://t...   \n",
       "2018-07-18 22:52:52+00:00  Barry Silbert is extremely optimistic on bitco...   \n",
       "2018-07-18 23:00:01+00:00  How satellites avoid attacks and space junk wh...   \n",
       "\n",
       "                                                timestamp        source  \\\n",
       "Date                                                                      \n",
       "2018-07-18 21:33:26+00:00  Wed Jul 18 21:33:26 +0000 2018  GoldmanSachs   \n",
       "2018-07-18 22:22:47+00:00  Wed Jul 18 22:22:47 +0000 2018    StockTwits   \n",
       "2018-07-18 22:32:01+00:00  Wed Jul 18 22:32:01 +0000 2018     TheStreet   \n",
       "2018-07-18 22:52:52+00:00  Wed Jul 18 22:52:52 +0000 2018   MarketWatch   \n",
       "2018-07-18 23:00:01+00:00  Wed Jul 18 23:00:01 +0000 2018        Forbes   \n",
       "\n",
       "                          symbols      company_names  \\\n",
       "Date                                                   \n",
       "2018-07-18 21:33:26+00:00      GS  The Goldman Sachs   \n",
       "2018-07-18 22:22:47+00:00       M             Macy's   \n",
       "2018-07-18 22:32:01+00:00     AIG           American   \n",
       "2018-07-18 22:52:52+00:00     BTC            Bitcoin   \n",
       "2018-07-18 23:00:01+00:00    ORCL             Oracle   \n",
       "\n",
       "                                                                         url  \\\n",
       "Date                                                                           \n",
       "2018-07-18 21:33:26+00:00  https://twitter.com/i/web/status/1019696670777...   \n",
       "2018-07-18 22:22:47+00:00  https://twitter.com/i/web/status/1019709091038...   \n",
       "2018-07-18 22:32:01+00:00                            https://buff.ly/2L3kmc4   \n",
       "2018-07-18 22:52:52+00:00  https://twitter.com/i/web/status/1019716662587...   \n",
       "2018-07-18 23:00:01+00:00                     http://on.forbes.com/6013DqDDU   \n",
       "\n",
       "                           verified  sentiment                      Date  \n",
       "Date                                                                      \n",
       "2018-07-18 21:33:26+00:00      True   0.600000 2018-07-18 21:33:26+00:00  \n",
       "2018-07-18 22:22:47+00:00      True  -0.155556 2018-07-18 22:22:47+00:00  \n",
       "2018-07-18 22:32:01+00:00      True  -0.100000 2018-07-18 22:32:01+00:00  \n",
       "2018-07-18 22:52:52+00:00      True   0.005682 2018-07-18 22:52:52+00:00  \n",
       "2018-07-18 23:00:01+00:00      True   0.000000 2018-07-18 23:00:01+00:00  "
      ]
     },
     "execution_count": 25,
     "metadata": {},
     "output_type": "execute_result"
    }
   ],
   "source": [
    "tweets.head()"
   ]
  },
  {
   "cell_type": "code",
   "execution_count": 26,
   "id": "99b10d5a",
   "metadata": {},
   "outputs": [],
   "source": [
    "# creating a dataframe called daily_tweets which resamples tweets by D, averaging the column "
   ]
  },
  {
   "cell_type": "code",
   "execution_count": 27,
   "id": "0118484c",
   "metadata": {},
   "outputs": [],
   "source": [
    "daily_tweets = tweets[['sentiment']].resample('D').mean()"
   ]
  },
  {
   "cell_type": "code",
   "execution_count": 28,
   "id": "90cadbd7",
   "metadata": {},
   "outputs": [
    {
     "data": {
      "text/html": [
       "<div>\n",
       "<style scoped>\n",
       "    .dataframe tbody tr th:only-of-type {\n",
       "        vertical-align: middle;\n",
       "    }\n",
       "\n",
       "    .dataframe tbody tr th {\n",
       "        vertical-align: top;\n",
       "    }\n",
       "\n",
       "    .dataframe thead th {\n",
       "        text-align: right;\n",
       "    }\n",
       "</style>\n",
       "<table border=\"1\" class=\"dataframe\">\n",
       "  <thead>\n",
       "    <tr style=\"text-align: right;\">\n",
       "      <th></th>\n",
       "      <th>sentiment</th>\n",
       "    </tr>\n",
       "    <tr>\n",
       "      <th>Date</th>\n",
       "      <th></th>\n",
       "    </tr>\n",
       "  </thead>\n",
       "  <tbody>\n",
       "    <tr>\n",
       "      <th>2018-02-23 00:00:00+00:00</th>\n",
       "      <td>0.136364</td>\n",
       "    </tr>\n",
       "    <tr>\n",
       "      <th>2018-02-24 00:00:00+00:00</th>\n",
       "      <td>NaN</td>\n",
       "    </tr>\n",
       "    <tr>\n",
       "      <th>2018-02-25 00:00:00+00:00</th>\n",
       "      <td>NaN</td>\n",
       "    </tr>\n",
       "    <tr>\n",
       "      <th>2018-02-26 00:00:00+00:00</th>\n",
       "      <td>NaN</td>\n",
       "    </tr>\n",
       "    <tr>\n",
       "      <th>2018-02-27 00:00:00+00:00</th>\n",
       "      <td>NaN</td>\n",
       "    </tr>\n",
       "    <tr>\n",
       "      <th>...</th>\n",
       "      <td>...</td>\n",
       "    </tr>\n",
       "    <tr>\n",
       "      <th>2018-07-15 00:00:00+00:00</th>\n",
       "      <td>0.033433</td>\n",
       "    </tr>\n",
       "    <tr>\n",
       "      <th>2018-07-16 00:00:00+00:00</th>\n",
       "      <td>0.058232</td>\n",
       "    </tr>\n",
       "    <tr>\n",
       "      <th>2018-07-17 00:00:00+00:00</th>\n",
       "      <td>0.052576</td>\n",
       "    </tr>\n",
       "    <tr>\n",
       "      <th>2018-07-18 00:00:00+00:00</th>\n",
       "      <td>0.076626</td>\n",
       "    </tr>\n",
       "    <tr>\n",
       "      <th>2018-07-19 00:00:00+00:00</th>\n",
       "      <td>0.135647</td>\n",
       "    </tr>\n",
       "  </tbody>\n",
       "</table>\n",
       "<p>147 rows × 1 columns</p>\n",
       "</div>"
      ],
      "text/plain": [
       "                           sentiment\n",
       "Date                                \n",
       "2018-02-23 00:00:00+00:00   0.136364\n",
       "2018-02-24 00:00:00+00:00        NaN\n",
       "2018-02-25 00:00:00+00:00        NaN\n",
       "2018-02-26 00:00:00+00:00        NaN\n",
       "2018-02-27 00:00:00+00:00        NaN\n",
       "...                              ...\n",
       "2018-07-15 00:00:00+00:00   0.033433\n",
       "2018-07-16 00:00:00+00:00   0.058232\n",
       "2018-07-17 00:00:00+00:00   0.052576\n",
       "2018-07-18 00:00:00+00:00   0.076626\n",
       "2018-07-19 00:00:00+00:00   0.135647\n",
       "\n",
       "[147 rows x 1 columns]"
      ]
     },
     "execution_count": 28,
     "metadata": {},
     "output_type": "execute_result"
    }
   ],
   "source": [
    "daily_tweets"
   ]
  },
  {
   "cell_type": "code",
   "execution_count": 29,
   "id": "f7e654f1",
   "metadata": {},
   "outputs": [
    {
     "data": {
      "text/plain": [
       "(147, 1)"
      ]
     },
     "execution_count": 29,
     "metadata": {},
     "output_type": "execute_result"
    }
   ],
   "source": [
    "daily_tweets.shape"
   ]
  },
  {
   "cell_type": "code",
   "execution_count": 30,
   "id": "3323a480",
   "metadata": {},
   "outputs": [],
   "source": [
    "daily_tweets.dropna(inplace = True)"
   ]
  },
  {
   "cell_type": "code",
   "execution_count": 31,
   "id": "c9e581ec",
   "metadata": {},
   "outputs": [
    {
     "data": {
      "text/html": [
       "<div>\n",
       "<style scoped>\n",
       "    .dataframe tbody tr th:only-of-type {\n",
       "        vertical-align: middle;\n",
       "    }\n",
       "\n",
       "    .dataframe tbody tr th {\n",
       "        vertical-align: top;\n",
       "    }\n",
       "\n",
       "    .dataframe thead th {\n",
       "        text-align: right;\n",
       "    }\n",
       "</style>\n",
       "<table border=\"1\" class=\"dataframe\">\n",
       "  <thead>\n",
       "    <tr style=\"text-align: right;\">\n",
       "      <th></th>\n",
       "      <th>sentiment</th>\n",
       "    </tr>\n",
       "    <tr>\n",
       "      <th>Date</th>\n",
       "      <th></th>\n",
       "    </tr>\n",
       "  </thead>\n",
       "  <tbody>\n",
       "    <tr>\n",
       "      <th>2018-02-23 00:00:00+00:00</th>\n",
       "      <td>0.136364</td>\n",
       "    </tr>\n",
       "    <tr>\n",
       "      <th>2018-07-08 00:00:00+00:00</th>\n",
       "      <td>-0.003182</td>\n",
       "    </tr>\n",
       "    <tr>\n",
       "      <th>2018-07-09 00:00:00+00:00</th>\n",
       "      <td>0.048334</td>\n",
       "    </tr>\n",
       "    <tr>\n",
       "      <th>2018-07-10 00:00:00+00:00</th>\n",
       "      <td>0.043485</td>\n",
       "    </tr>\n",
       "    <tr>\n",
       "      <th>2018-07-11 00:00:00+00:00</th>\n",
       "      <td>0.062144</td>\n",
       "    </tr>\n",
       "    <tr>\n",
       "      <th>2018-07-12 00:00:00+00:00</th>\n",
       "      <td>0.053857</td>\n",
       "    </tr>\n",
       "    <tr>\n",
       "      <th>2018-07-13 00:00:00+00:00</th>\n",
       "      <td>0.058823</td>\n",
       "    </tr>\n",
       "    <tr>\n",
       "      <th>2018-07-14 00:00:00+00:00</th>\n",
       "      <td>0.058636</td>\n",
       "    </tr>\n",
       "    <tr>\n",
       "      <th>2018-07-15 00:00:00+00:00</th>\n",
       "      <td>0.033433</td>\n",
       "    </tr>\n",
       "    <tr>\n",
       "      <th>2018-07-16 00:00:00+00:00</th>\n",
       "      <td>0.058232</td>\n",
       "    </tr>\n",
       "    <tr>\n",
       "      <th>2018-07-17 00:00:00+00:00</th>\n",
       "      <td>0.052576</td>\n",
       "    </tr>\n",
       "    <tr>\n",
       "      <th>2018-07-18 00:00:00+00:00</th>\n",
       "      <td>0.076626</td>\n",
       "    </tr>\n",
       "    <tr>\n",
       "      <th>2018-07-19 00:00:00+00:00</th>\n",
       "      <td>0.135647</td>\n",
       "    </tr>\n",
       "  </tbody>\n",
       "</table>\n",
       "</div>"
      ],
      "text/plain": [
       "                           sentiment\n",
       "Date                                \n",
       "2018-02-23 00:00:00+00:00   0.136364\n",
       "2018-07-08 00:00:00+00:00  -0.003182\n",
       "2018-07-09 00:00:00+00:00   0.048334\n",
       "2018-07-10 00:00:00+00:00   0.043485\n",
       "2018-07-11 00:00:00+00:00   0.062144\n",
       "2018-07-12 00:00:00+00:00   0.053857\n",
       "2018-07-13 00:00:00+00:00   0.058823\n",
       "2018-07-14 00:00:00+00:00   0.058636\n",
       "2018-07-15 00:00:00+00:00   0.033433\n",
       "2018-07-16 00:00:00+00:00   0.058232\n",
       "2018-07-17 00:00:00+00:00   0.052576\n",
       "2018-07-18 00:00:00+00:00   0.076626\n",
       "2018-07-19 00:00:00+00:00   0.135647"
      ]
     },
     "execution_count": 31,
     "metadata": {},
     "output_type": "execute_result"
    }
   ],
   "source": [
    "daily_tweets"
   ]
  },
  {
   "cell_type": "code",
   "execution_count": 32,
   "id": "9d83f11d",
   "metadata": {},
   "outputs": [
    {
     "data": {
      "text/plain": [
       "<AxesSubplot:xlabel='Date'>"
      ]
     },
     "execution_count": 32,
     "metadata": {},
     "output_type": "execute_result"
    },
    {
     "data": {
      "image/png": "[encoded data removed]",
      "text/plain": [
       "<Figure size 432x288 with 1 Axes>"
      ]
     },
     "metadata": {
      "needs_background": "light"
     },
     "output_type": "display_data"
    }
   ],
   "source": [
    "daily_tweets.sentiment.plot(kind='line')"
   ]
  },
  {
   "cell_type": "code",
   "execution_count": 33,
   "id": "a04c0f3a",
   "metadata": {
    "scrolled": true
   },
   "outputs": [],
   "source": [
    "#pip install pandas-datareader"
   ]
  },
  {
   "cell_type": "code",
   "execution_count": 34,
   "id": "12aae955",
   "metadata": {},
   "outputs": [],
   "source": [
    "import pandas_datareader as pdr\n",
    "import datetime"
   ]
  },
  {
   "cell_type": "code",
   "execution_count": 38,
   "id": "676c1017",
   "metadata": {},
   "outputs": [],
   "source": [
    "import requests\n",
    "import numpy as np"
   ]
  },
  {
   "cell_type": "code",
   "execution_count": 35,
   "id": "85c4319a",
   "metadata": {
    "scrolled": true
   },
   "outputs": [],
   "source": [
    "#pip install yfinance"
   ]
  },
  {
   "cell_type": "code",
   "execution_count": 36,
   "id": "071b84a7",
   "metadata": {},
   "outputs": [],
   "source": [
    "import yfinance"
   ]
  },
  {
   "cell_type": "code",
   "execution_count": 39,
   "id": "b9f0b427",
   "metadata": {
    "scrolled": true
   },
   "outputs": [],
   "source": [
    "#historical_prices = pdr.get_data_yahoo('AAPL', start=datetime.datetime(2015, 5, 2), end=datetime.datetime(2015, 5, 25))\n",
    "ticker = \"AAPL\""
   ]
  },
  {
   "cell_type": "code",
   "execution_count": 96,
   "id": "e450fb2a",
   "metadata": {},
   "outputs": [],
   "source": [
    "def getdata(url):\n",
    "  r = requests.get(url,headers ={'User-Agent':'Mozilla/5.0 (Windows NT 10.0; Win64; x64) AppleWebKit/537.36 (KHTML, like Gecko) Chrome/91.0.4472.124 Safari/537.36'})\n",
    "  data = pd.read_html(r.text)\n",
    "  return data"
   ]
  },
  {
   "cell_type": "code",
   "execution_count": 97,
   "id": "a0ac18a4",
   "metadata": {},
   "outputs": [],
   "source": [
    "summary_url = f'https://finance.yahoo.com/quote/{ticker}?p={ticker}'\n",
    "summary_data = getdata(summary_url)"
   ]
  },
  {
   "cell_type": "code",
   "execution_count": 98,
   "id": "e9215f27",
   "metadata": {},
   "outputs": [],
   "source": [
    "historiscal_url= f'https://finance.yahoo.com/quote/{ticker}/history?p={ticker}'\n",
    "historiscal_data = getdata(historiscal_url)\n",
    "historical_data1 = historiscal_data[0]"
   ]
  },
  {
   "cell_type": "code",
   "execution_count": 99,
   "id": "8c5e7223",
   "metadata": {},
   "outputs": [],
   "source": [
    "prices = historical_data1.iloc[:-1 , :]"
   ]
  },
  {
   "cell_type": "code",
   "execution_count": 100,
   "id": "a32de52b",
   "metadata": {},
   "outputs": [
    {
     "data": {
      "text/html": [
       "<div>\n",
       "<style scoped>\n",
       "    .dataframe tbody tr th:only-of-type {\n",
       "        vertical-align: middle;\n",
       "    }\n",
       "\n",
       "    .dataframe tbody tr th {\n",
       "        vertical-align: top;\n",
       "    }\n",
       "\n",
       "    .dataframe thead th {\n",
       "        text-align: right;\n",
       "    }\n",
       "</style>\n",
       "<table border=\"1\" class=\"dataframe\">\n",
       "  <thead>\n",
       "    <tr style=\"text-align: right;\">\n",
       "      <th></th>\n",
       "      <th>Date</th>\n",
       "      <th>Open</th>\n",
       "      <th>High</th>\n",
       "      <th>Low</th>\n",
       "      <th>Close*</th>\n",
       "      <th>Adj Close**</th>\n",
       "      <th>Volume</th>\n",
       "    </tr>\n",
       "  </thead>\n",
       "  <tbody>\n",
       "    <tr>\n",
       "      <th>0</th>\n",
       "      <td>Mar 08, 2023</td>\n",
       "      <td>152.81</td>\n",
       "      <td>153.47</td>\n",
       "      <td>151.83</td>\n",
       "      <td>152.87</td>\n",
       "      <td>152.87</td>\n",
       "      <td>46312605</td>\n",
       "    </tr>\n",
       "    <tr>\n",
       "      <th>1</th>\n",
       "      <td>Mar 07, 2023</td>\n",
       "      <td>153.70</td>\n",
       "      <td>154.03</td>\n",
       "      <td>151.13</td>\n",
       "      <td>151.60</td>\n",
       "      <td>151.60</td>\n",
       "      <td>56182000</td>\n",
       "    </tr>\n",
       "    <tr>\n",
       "      <th>2</th>\n",
       "      <td>Mar 06, 2023</td>\n",
       "      <td>153.79</td>\n",
       "      <td>156.30</td>\n",
       "      <td>153.46</td>\n",
       "      <td>153.83</td>\n",
       "      <td>153.83</td>\n",
       "      <td>87558000</td>\n",
       "    </tr>\n",
       "    <tr>\n",
       "      <th>3</th>\n",
       "      <td>Mar 03, 2023</td>\n",
       "      <td>148.04</td>\n",
       "      <td>151.11</td>\n",
       "      <td>147.33</td>\n",
       "      <td>151.03</td>\n",
       "      <td>151.03</td>\n",
       "      <td>70668500</td>\n",
       "    </tr>\n",
       "    <tr>\n",
       "      <th>4</th>\n",
       "      <td>Mar 02, 2023</td>\n",
       "      <td>144.38</td>\n",
       "      <td>146.71</td>\n",
       "      <td>143.90</td>\n",
       "      <td>145.91</td>\n",
       "      <td>145.91</td>\n",
       "      <td>52238100</td>\n",
       "    </tr>\n",
       "    <tr>\n",
       "      <th>...</th>\n",
       "      <td>...</td>\n",
       "      <td>...</td>\n",
       "      <td>...</td>\n",
       "      <td>...</td>\n",
       "      <td>...</td>\n",
       "      <td>...</td>\n",
       "      <td>...</td>\n",
       "    </tr>\n",
       "    <tr>\n",
       "      <th>95</th>\n",
       "      <td>Oct 21, 2022</td>\n",
       "      <td>142.87</td>\n",
       "      <td>147.85</td>\n",
       "      <td>142.65</td>\n",
       "      <td>147.27</td>\n",
       "      <td>146.80</td>\n",
       "      <td>86548600</td>\n",
       "    </tr>\n",
       "    <tr>\n",
       "      <th>96</th>\n",
       "      <td>Oct 20, 2022</td>\n",
       "      <td>143.02</td>\n",
       "      <td>145.89</td>\n",
       "      <td>142.65</td>\n",
       "      <td>143.39</td>\n",
       "      <td>142.93</td>\n",
       "      <td>64522000</td>\n",
       "    </tr>\n",
       "    <tr>\n",
       "      <th>97</th>\n",
       "      <td>Oct 19, 2022</td>\n",
       "      <td>141.69</td>\n",
       "      <td>144.95</td>\n",
       "      <td>141.50</td>\n",
       "      <td>143.86</td>\n",
       "      <td>143.40</td>\n",
       "      <td>61758300</td>\n",
       "    </tr>\n",
       "    <tr>\n",
       "      <th>98</th>\n",
       "      <td>Oct 18, 2022</td>\n",
       "      <td>145.49</td>\n",
       "      <td>146.70</td>\n",
       "      <td>140.61</td>\n",
       "      <td>143.75</td>\n",
       "      <td>143.29</td>\n",
       "      <td>99136600</td>\n",
       "    </tr>\n",
       "    <tr>\n",
       "      <th>99</th>\n",
       "      <td>Oct 17, 2022</td>\n",
       "      <td>141.07</td>\n",
       "      <td>142.90</td>\n",
       "      <td>140.27</td>\n",
       "      <td>142.41</td>\n",
       "      <td>141.96</td>\n",
       "      <td>85250900</td>\n",
       "    </tr>\n",
       "  </tbody>\n",
       "</table>\n",
       "<p>100 rows × 7 columns</p>\n",
       "</div>"
      ],
      "text/plain": [
       "            Date    Open    High     Low  Close* Adj Close**    Volume\n",
       "0   Mar 08, 2023  152.81  153.47  151.83  152.87      152.87  46312605\n",
       "1   Mar 07, 2023  153.70  154.03  151.13  151.60      151.60  56182000\n",
       "2   Mar 06, 2023  153.79  156.30  153.46  153.83      153.83  87558000\n",
       "3   Mar 03, 2023  148.04  151.11  147.33  151.03      151.03  70668500\n",
       "4   Mar 02, 2023  144.38  146.71  143.90  145.91      145.91  52238100\n",
       "..           ...     ...     ...     ...     ...         ...       ...\n",
       "95  Oct 21, 2022  142.87  147.85  142.65  147.27      146.80  86548600\n",
       "96  Oct 20, 2022  143.02  145.89  142.65  143.39      142.93  64522000\n",
       "97  Oct 19, 2022  141.69  144.95  141.50  143.86      143.40  61758300\n",
       "98  Oct 18, 2022  145.49  146.70  140.61  143.75      143.29  99136600\n",
       "99  Oct 17, 2022  141.07  142.90  140.27  142.41      141.96  85250900\n",
       "\n",
       "[100 rows x 7 columns]"
      ]
     },
     "execution_count": 100,
     "metadata": {},
     "output_type": "execute_result"
    }
   ],
   "source": [
    "prices"
   ]
  },
  {
   "cell_type": "code",
   "execution_count": 101,
   "id": "8376dd57",
   "metadata": {},
   "outputs": [
    {
     "name": "stdout",
     "output_type": "stream",
     "text": [
      "<class 'pandas.core.frame.DataFrame'>\n",
      "RangeIndex: 100 entries, 0 to 99\n",
      "Data columns (total 7 columns):\n",
      " #   Column       Non-Null Count  Dtype \n",
      "---  ------       --------------  ----- \n",
      " 0   Date         100 non-null    object\n",
      " 1   Open         100 non-null    object\n",
      " 2   High         100 non-null    object\n",
      " 3   Low          100 non-null    object\n",
      " 4   Close*       100 non-null    object\n",
      " 5   Adj Close**  100 non-null    object\n",
      " 6   Volume       100 non-null    object\n",
      "dtypes: object(7)\n",
      "memory usage: 5.6+ KB\n"
     ]
    }
   ],
   "source": [
    "prices.info()"
   ]
  },
  {
   "cell_type": "code",
   "execution_count": 112,
   "id": "5e797f36",
   "metadata": {},
   "outputs": [],
   "source": [
    "prices = prices.rename(columns={'Close*': 'Close', 'Adj Close**': 'Adj_Close'})"
   ]
  },
  {
   "cell_type": "code",
   "execution_count": 113,
   "id": "d434093d",
   "metadata": {},
   "outputs": [
    {
     "data": {
      "text/html": [
       "<div>\n",
       "<style scoped>\n",
       "    .dataframe tbody tr th:only-of-type {\n",
       "        vertical-align: middle;\n",
       "    }\n",
       "\n",
       "    .dataframe tbody tr th {\n",
       "        vertical-align: top;\n",
       "    }\n",
       "\n",
       "    .dataframe thead th {\n",
       "        text-align: right;\n",
       "    }\n",
       "</style>\n",
       "<table border=\"1\" class=\"dataframe\">\n",
       "  <thead>\n",
       "    <tr style=\"text-align: right;\">\n",
       "      <th></th>\n",
       "      <th>Date</th>\n",
       "      <th>Open</th>\n",
       "      <th>High</th>\n",
       "      <th>Low</th>\n",
       "      <th>Close</th>\n",
       "      <th>adj_Close</th>\n",
       "      <th>Volume</th>\n",
       "    </tr>\n",
       "  </thead>\n",
       "  <tbody>\n",
       "    <tr>\n",
       "      <th>0</th>\n",
       "      <td>Mar 08, 2023</td>\n",
       "      <td>152.81</td>\n",
       "      <td>153.47</td>\n",
       "      <td>151.83</td>\n",
       "      <td>152.87</td>\n",
       "      <td>152.87</td>\n",
       "      <td>46312605</td>\n",
       "    </tr>\n",
       "    <tr>\n",
       "      <th>1</th>\n",
       "      <td>Mar 07, 2023</td>\n",
       "      <td>153.70</td>\n",
       "      <td>154.03</td>\n",
       "      <td>151.13</td>\n",
       "      <td>151.60</td>\n",
       "      <td>151.60</td>\n",
       "      <td>56182000</td>\n",
       "    </tr>\n",
       "    <tr>\n",
       "      <th>2</th>\n",
       "      <td>Mar 06, 2023</td>\n",
       "      <td>153.79</td>\n",
       "      <td>156.30</td>\n",
       "      <td>153.46</td>\n",
       "      <td>153.83</td>\n",
       "      <td>153.83</td>\n",
       "      <td>87558000</td>\n",
       "    </tr>\n",
       "    <tr>\n",
       "      <th>3</th>\n",
       "      <td>Mar 03, 2023</td>\n",
       "      <td>148.04</td>\n",
       "      <td>151.11</td>\n",
       "      <td>147.33</td>\n",
       "      <td>151.03</td>\n",
       "      <td>151.03</td>\n",
       "      <td>70668500</td>\n",
       "    </tr>\n",
       "    <tr>\n",
       "      <th>4</th>\n",
       "      <td>Mar 02, 2023</td>\n",
       "      <td>144.38</td>\n",
       "      <td>146.71</td>\n",
       "      <td>143.90</td>\n",
       "      <td>145.91</td>\n",
       "      <td>145.91</td>\n",
       "      <td>52238100</td>\n",
       "    </tr>\n",
       "    <tr>\n",
       "      <th>...</th>\n",
       "      <td>...</td>\n",
       "      <td>...</td>\n",
       "      <td>...</td>\n",
       "      <td>...</td>\n",
       "      <td>...</td>\n",
       "      <td>...</td>\n",
       "      <td>...</td>\n",
       "    </tr>\n",
       "    <tr>\n",
       "      <th>95</th>\n",
       "      <td>Oct 21, 2022</td>\n",
       "      <td>142.87</td>\n",
       "      <td>147.85</td>\n",
       "      <td>142.65</td>\n",
       "      <td>147.27</td>\n",
       "      <td>146.80</td>\n",
       "      <td>86548600</td>\n",
       "    </tr>\n",
       "    <tr>\n",
       "      <th>96</th>\n",
       "      <td>Oct 20, 2022</td>\n",
       "      <td>143.02</td>\n",
       "      <td>145.89</td>\n",
       "      <td>142.65</td>\n",
       "      <td>143.39</td>\n",
       "      <td>142.93</td>\n",
       "      <td>64522000</td>\n",
       "    </tr>\n",
       "    <tr>\n",
       "      <th>97</th>\n",
       "      <td>Oct 19, 2022</td>\n",
       "      <td>141.69</td>\n",
       "      <td>144.95</td>\n",
       "      <td>141.50</td>\n",
       "      <td>143.86</td>\n",
       "      <td>143.40</td>\n",
       "      <td>61758300</td>\n",
       "    </tr>\n",
       "    <tr>\n",
       "      <th>98</th>\n",
       "      <td>Oct 18, 2022</td>\n",
       "      <td>145.49</td>\n",
       "      <td>146.70</td>\n",
       "      <td>140.61</td>\n",
       "      <td>143.75</td>\n",
       "      <td>143.29</td>\n",
       "      <td>99136600</td>\n",
       "    </tr>\n",
       "    <tr>\n",
       "      <th>99</th>\n",
       "      <td>Oct 17, 2022</td>\n",
       "      <td>141.07</td>\n",
       "      <td>142.90</td>\n",
       "      <td>140.27</td>\n",
       "      <td>142.41</td>\n",
       "      <td>141.96</td>\n",
       "      <td>85250900</td>\n",
       "    </tr>\n",
       "  </tbody>\n",
       "</table>\n",
       "<p>100 rows × 7 columns</p>\n",
       "</div>"
      ],
      "text/plain": [
       "            Date    Open    High     Low   Close adj_Close    Volume\n",
       "0   Mar 08, 2023  152.81  153.47  151.83  152.87    152.87  46312605\n",
       "1   Mar 07, 2023  153.70  154.03  151.13  151.60    151.60  56182000\n",
       "2   Mar 06, 2023  153.79  156.30  153.46  153.83    153.83  87558000\n",
       "3   Mar 03, 2023  148.04  151.11  147.33  151.03    151.03  70668500\n",
       "4   Mar 02, 2023  144.38  146.71  143.90  145.91    145.91  52238100\n",
       "..           ...     ...     ...     ...     ...       ...       ...\n",
       "95  Oct 21, 2022  142.87  147.85  142.65  147.27    146.80  86548600\n",
       "96  Oct 20, 2022  143.02  145.89  142.65  143.39    142.93  64522000\n",
       "97  Oct 19, 2022  141.69  144.95  141.50  143.86    143.40  61758300\n",
       "98  Oct 18, 2022  145.49  146.70  140.61  143.75    143.29  99136600\n",
       "99  Oct 17, 2022  141.07  142.90  140.27  142.41    141.96  85250900\n",
       "\n",
       "[100 rows x 7 columns]"
      ]
     },
     "execution_count": 113,
     "metadata": {},
     "output_type": "execute_result"
    }
   ],
   "source": [
    "prices"
   ]
  },
  {
   "cell_type": "code",
   "execution_count": 128,
   "id": "9fee1936",
   "metadata": {
    "scrolled": false
   },
   "outputs": [
    {
     "data": {
      "text/html": [
       "<div>\n",
       "<style scoped>\n",
       "    .dataframe tbody tr th:only-of-type {\n",
       "        vertical-align: middle;\n",
       "    }\n",
       "\n",
       "    .dataframe tbody tr th {\n",
       "        vertical-align: top;\n",
       "    }\n",
       "\n",
       "    .dataframe thead th {\n",
       "        text-align: right;\n",
       "    }\n",
       "</style>\n",
       "<table border=\"1\" class=\"dataframe\">\n",
       "  <thead>\n",
       "    <tr style=\"text-align: right;\">\n",
       "      <th></th>\n",
       "      <th>Date</th>\n",
       "      <th>Open</th>\n",
       "      <th>High</th>\n",
       "      <th>Low</th>\n",
       "      <th>Close</th>\n",
       "      <th>adj_Close</th>\n",
       "      <th>Volume</th>\n",
       "    </tr>\n",
       "  </thead>\n",
       "  <tbody>\n",
       "    <tr>\n",
       "      <th>18</th>\n",
       "      <td>Feb 10, 2023</td>\n",
       "      <td>0.23 Dividend</td>\n",
       "      <td>0.23 Dividend</td>\n",
       "      <td>0.23 Dividend</td>\n",
       "      <td>0.23 Dividend</td>\n",
       "      <td>0.23 Dividend</td>\n",
       "      <td>0.23 Dividend</td>\n",
       "    </tr>\n",
       "    <tr>\n",
       "      <th>85</th>\n",
       "      <td>Nov 04, 2022</td>\n",
       "      <td>0.23 Dividend</td>\n",
       "      <td>0.23 Dividend</td>\n",
       "      <td>0.23 Dividend</td>\n",
       "      <td>0.23 Dividend</td>\n",
       "      <td>0.23 Dividend</td>\n",
       "      <td>0.23 Dividend</td>\n",
       "    </tr>\n",
       "  </tbody>\n",
       "</table>\n",
       "</div>"
      ],
      "text/plain": [
       "            Date           Open           High            Low          Close  \\\n",
       "18  Feb 10, 2023  0.23 Dividend  0.23 Dividend  0.23 Dividend  0.23 Dividend   \n",
       "85  Nov 04, 2022  0.23 Dividend  0.23 Dividend  0.23 Dividend  0.23 Dividend   \n",
       "\n",
       "        adj_Close         Volume  \n",
       "18  0.23 Dividend  0.23 Dividend  \n",
       "85  0.23 Dividend  0.23 Dividend  "
      ]
     },
     "execution_count": 128,
     "metadata": {},
     "output_type": "execute_result"
    }
   ],
   "source": [
    "prices[prices[\"Close\"] == \"0.23 Dividend\"]"
   ]
  },
  {
   "cell_type": "code",
   "execution_count": 133,
   "id": "8e44c524",
   "metadata": {},
   "outputs": [],
   "source": [
    "prices = prices.drop(prices[prices.Close == \"0.23 Dividend\"].index)"
   ]
  },
  {
   "cell_type": "code",
   "execution_count": 134,
   "id": "c8821659",
   "metadata": {},
   "outputs": [
    {
     "data": {
      "text/html": [
       "<div>\n",
       "<style scoped>\n",
       "    .dataframe tbody tr th:only-of-type {\n",
       "        vertical-align: middle;\n",
       "    }\n",
       "\n",
       "    .dataframe tbody tr th {\n",
       "        vertical-align: top;\n",
       "    }\n",
       "\n",
       "    .dataframe thead th {\n",
       "        text-align: right;\n",
       "    }\n",
       "</style>\n",
       "<table border=\"1\" class=\"dataframe\">\n",
       "  <thead>\n",
       "    <tr style=\"text-align: right;\">\n",
       "      <th></th>\n",
       "      <th>Date</th>\n",
       "      <th>Open</th>\n",
       "      <th>High</th>\n",
       "      <th>Low</th>\n",
       "      <th>Close</th>\n",
       "      <th>adj_Close</th>\n",
       "      <th>Volume</th>\n",
       "    </tr>\n",
       "  </thead>\n",
       "  <tbody>\n",
       "  </tbody>\n",
       "</table>\n",
       "</div>"
      ],
      "text/plain": [
       "Empty DataFrame\n",
       "Columns: [Date, Open, High, Low, Close, adj_Close, Volume]\n",
       "Index: []"
      ]
     },
     "execution_count": 134,
     "metadata": {},
     "output_type": "execute_result"
    }
   ],
   "source": [
    "prices[prices[\"Close\"] == \"0.23 Dividend\"]"
   ]
  },
  {
   "cell_type": "code",
   "execution_count": 135,
   "id": "d646d30a",
   "metadata": {},
   "outputs": [],
   "source": [
    "prices.Close = prices.Close.astype('float')"
   ]
  },
  {
   "cell_type": "code",
   "execution_count": 136,
   "id": "6bf6941b",
   "metadata": {},
   "outputs": [],
   "source": [
    "prices.Volume = prices.Volume.astype('float')"
   ]
  },
  {
   "cell_type": "code",
   "execution_count": 138,
   "id": "df0383f2",
   "metadata": {},
   "outputs": [
    {
     "data": {
      "text/plain": [
       "<AxesSubplot:>"
      ]
     },
     "execution_count": 138,
     "metadata": {},
     "output_type": "execute_result"
    },
    {
     "data": {
      "image/png": "[encoded data removed]",
      "text/plain": [
       "<Figure size 432x288 with 1 Axes>"
      ]
     },
     "metadata": {
      "needs_background": "light"
     },
     "output_type": "display_data"
    }
   ],
   "source": [
    "prices[[\"Volume\", 'Close']].plot()"
   ]
  },
  {
   "cell_type": "code",
   "execution_count": 140,
   "id": "ca1d5b3a",
   "metadata": {},
   "outputs": [
    {
     "data": {
      "text/html": [
       "<div>\n",
       "<style scoped>\n",
       "    .dataframe tbody tr th:only-of-type {\n",
       "        vertical-align: middle;\n",
       "    }\n",
       "\n",
       "    .dataframe tbody tr th {\n",
       "        vertical-align: top;\n",
       "    }\n",
       "\n",
       "    .dataframe thead th {\n",
       "        text-align: right;\n",
       "    }\n",
       "</style>\n",
       "<table border=\"1\" class=\"dataframe\">\n",
       "  <thead>\n",
       "    <tr style=\"text-align: right;\">\n",
       "      <th></th>\n",
       "      <th>Volume</th>\n",
       "      <th>Close</th>\n",
       "    </tr>\n",
       "  </thead>\n",
       "  <tbody>\n",
       "    <tr>\n",
       "      <th>count</th>\n",
       "      <td>9.800000e+01</td>\n",
       "      <td>98.000000</td>\n",
       "    </tr>\n",
       "    <tr>\n",
       "      <th>mean</th>\n",
       "      <td>7.681509e+07</td>\n",
       "      <td>143.554592</td>\n",
       "    </tr>\n",
       "    <tr>\n",
       "      <th>std</th>\n",
       "      <td>2.296728e+07</td>\n",
       "      <td>8.029528</td>\n",
       "    </tr>\n",
       "    <tr>\n",
       "      <th>min</th>\n",
       "      <td>3.519590e+07</td>\n",
       "      <td>125.020000</td>\n",
       "    </tr>\n",
       "    <tr>\n",
       "      <th>25%</th>\n",
       "      <td>6.368868e+07</td>\n",
       "      <td>137.997500</td>\n",
       "    </tr>\n",
       "    <tr>\n",
       "      <th>50%</th>\n",
       "      <td>7.102060e+07</td>\n",
       "      <td>145.170000</td>\n",
       "    </tr>\n",
       "    <tr>\n",
       "      <th>75%</th>\n",
       "      <td>8.539152e+07</td>\n",
       "      <td>149.955000</td>\n",
       "    </tr>\n",
       "    <tr>\n",
       "      <th>max</th>\n",
       "      <td>1.647624e+08</td>\n",
       "      <td>155.740000</td>\n",
       "    </tr>\n",
       "  </tbody>\n",
       "</table>\n",
       "</div>"
      ],
      "text/plain": [
       "             Volume       Close\n",
       "count  9.800000e+01   98.000000\n",
       "mean   7.681509e+07  143.554592\n",
       "std    2.296728e+07    8.029528\n",
       "min    3.519590e+07  125.020000\n",
       "25%    6.368868e+07  137.997500\n",
       "50%    7.102060e+07  145.170000\n",
       "75%    8.539152e+07  149.955000\n",
       "max    1.647624e+08  155.740000"
      ]
     },
     "execution_count": 140,
     "metadata": {},
     "output_type": "execute_result"
    }
   ],
   "source": [
    "prices[[\"Volume\", 'Close']].describe()"
   ]
  },
  {
   "cell_type": "code",
   "execution_count": 149,
   "id": "a7cf54f4",
   "metadata": {},
   "outputs": [],
   "source": [
    "from sklearn.preprocessing import StandardScaler"
   ]
  },
  {
   "cell_type": "code",
   "execution_count": 152,
   "id": "96b6e6ad",
   "metadata": {},
   "outputs": [],
   "source": [
    "s = StandardScaler()"
   ]
  },
  {
   "cell_type": "code",
   "execution_count": 142,
   "id": "0c7a2498",
   "metadata": {},
   "outputs": [],
   "source": [
    "# scale the columns by z scores using standard scaler"
   ]
  },
  {
   "cell_type": "code",
   "execution_count": 153,
   "id": "ec37b4b9",
   "metadata": {},
   "outputs": [],
   "source": [
    "# then plot the scaled data"
   ]
  },
  {
   "cell_type": "code",
   "execution_count": 144,
   "id": "74f65077",
   "metadata": {},
   "outputs": [],
   "source": [
    "only_prices_and_volumes = prices[[\"Volume\", 'Close']]"
   ]
  },
  {
   "cell_type": "code",
   "execution_count": 155,
   "id": "4c052df6",
   "metadata": {},
   "outputs": [],
   "source": [
    "price_volume_scaled = s.fit_transform(only_prices_and_volumes)"
   ]
  },
  {
   "cell_type": "code",
   "execution_count": 158,
   "id": "26d17238",
   "metadata": {},
   "outputs": [
    {
     "data": {
      "text/plain": [
       "<AxesSubplot:>"
      ]
     },
     "execution_count": 158,
     "metadata": {},
     "output_type": "execute_result"
    },
    {
     "data": {
      "image/png": "[encoded data removed]",
      "text/plain": [
       "<Figure size 432x288 with 1 Axes>"
      ]
     },
     "metadata": {
      "needs_background": "light"
     },
     "output_type": "display_data"
    }
   ],
   "source": [
    "pd.DataFrame(price_volume_scaled, columns = [\"Volume\", 'Close']).plot()"
   ]
  },
  {
   "cell_type": "markdown",
   "id": "c17119c8",
   "metadata": {},
   "source": [
    "###### the price went down somewhere in the middle "
   ]
  },
  {
   "cell_type": "code",
   "execution_count": 159,
   "id": "2e97e065",
   "metadata": {},
   "outputs": [],
   "source": [
    "# concatinate prices.Close, and daily_tweets.sentiment"
   ]
  },
  {
   "cell_type": "code",
   "execution_count": 160,
   "id": "d07168fa",
   "metadata": {},
   "outputs": [],
   "source": [
    "merged = pd.concat ([prices.Close, daily_tweets.sentiment], axis=1)"
   ]
  },
  {
   "cell_type": "code",
   "execution_count": 161,
   "id": "78d73442",
   "metadata": {},
   "outputs": [
    {
     "data": {
      "text/html": [
       "<div>\n",
       "<style scoped>\n",
       "    .dataframe tbody tr th:only-of-type {\n",
       "        vertical-align: middle;\n",
       "    }\n",
       "\n",
       "    .dataframe tbody tr th {\n",
       "        vertical-align: top;\n",
       "    }\n",
       "\n",
       "    .dataframe thead th {\n",
       "        text-align: right;\n",
       "    }\n",
       "</style>\n",
       "<table border=\"1\" class=\"dataframe\">\n",
       "  <thead>\n",
       "    <tr style=\"text-align: right;\">\n",
       "      <th></th>\n",
       "      <th>Close</th>\n",
       "      <th>sentiment</th>\n",
       "    </tr>\n",
       "  </thead>\n",
       "  <tbody>\n",
       "    <tr>\n",
       "      <th>0</th>\n",
       "      <td>152.87</td>\n",
       "      <td>NaN</td>\n",
       "    </tr>\n",
       "    <tr>\n",
       "      <th>1</th>\n",
       "      <td>151.60</td>\n",
       "      <td>NaN</td>\n",
       "    </tr>\n",
       "    <tr>\n",
       "      <th>2</th>\n",
       "      <td>153.83</td>\n",
       "      <td>NaN</td>\n",
       "    </tr>\n",
       "    <tr>\n",
       "      <th>3</th>\n",
       "      <td>151.03</td>\n",
       "      <td>NaN</td>\n",
       "    </tr>\n",
       "    <tr>\n",
       "      <th>4</th>\n",
       "      <td>145.91</td>\n",
       "      <td>NaN</td>\n",
       "    </tr>\n",
       "  </tbody>\n",
       "</table>\n",
       "</div>"
      ],
      "text/plain": [
       "    Close  sentiment\n",
       "0  152.87        NaN\n",
       "1  151.60        NaN\n",
       "2  153.83        NaN\n",
       "3  151.03        NaN\n",
       "4  145.91        NaN"
      ]
     },
     "execution_count": 161,
     "metadata": {},
     "output_type": "execute_result"
    }
   ],
   "source": [
    "merged.head()"
   ]
  },
  {
   "cell_type": "code",
   "execution_count": 162,
   "id": "08cfe65c",
   "metadata": {},
   "outputs": [],
   "source": [
    "#Need to fix that because the data extracted doesn't correspond with the same date as the sentiment analysis "
   ]
  },
  {
   "cell_type": "code",
   "execution_count": null,
   "id": "e152a416",
   "metadata": {},
   "outputs": [],
   "source": []
  }
 ],
 "metadata": {
  "kernelspec": {
   "display_name": "Python 3 (ipykernel)",
   "language": "python",
   "name": "python3"
  },
  "language_info": {
   "codemirror_mode": {
    "name": "ipython",
    "version": 3
   },
   "file_extension": ".py",
   "mimetype": "text/x-python",
   "name": "python",
   "nbconvert_exporter": "python",
   "pygments_lexer": "ipython3",
   "version": "3.9.12"
  }
 },
 "nbformat": 4,
 "nbformat_minor": 5
}
